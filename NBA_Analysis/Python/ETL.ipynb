{
 "cells": [
  {
   "cell_type": "code",
   "execution_count": 15,
   "metadata": {},
   "outputs": [],
   "source": [
    "import pandas as pd\n",
    "import os"
   ]
  },
  {
   "cell_type": "code",
   "execution_count": 16,
   "metadata": {},
   "outputs": [
    {
     "name": "stdout",
     "output_type": "stream",
     "text": [
      "['NBA_2004_Shots.csv', 'NBA_2005_Shots.csv', 'NBA_2006_Shots.csv', 'NBA_2007_Shots.csv', 'NBA_2008_Shots.csv', 'NBA_2009_Shots.csv', 'NBA_2010_Shots.csv', 'NBA_2011_Shots.csv', 'NBA_2012_Shots.csv', 'NBA_2013_Shots.csv', 'NBA_2014_Shots.csv', 'NBA_2015_Shots.csv', 'NBA_2016_Shots.csv', 'NBA_2017_Shots.csv', 'NBA_2018_Shots.csv', 'NBA_2019_Shots.csv', 'NBA_2020_Shots.csv', 'NBA_2021_Shots.csv', 'NBA_2022_Shots.csv', 'NBA_2023_Shots.csv', 'NBA_2024_Shots.csv']\n"
     ]
    }
   ],
   "source": [
    "#raw csvs can be downloaded here https://github.com/DomSamangy/NBA_Shots_04_24/tree/main\n",
    "folder_path = r'Data_Projects\\NBA_Analysis\\Data'\n",
    "folder_list = os.listdir(folder_path)\n",
    "#print(folder_list)"
   ]
  },
  {
   "cell_type": "code",
   "execution_count": 73,
   "metadata": {},
   "outputs": [],
   "source": [
    "raw_dataframes = {}\n",
    "for file in folder_list:\n",
    "    year = file.split('_')[1]#getting the year to use it as the name for the df\n",
    "    raw_dataframes[year] = pd.read_csv(folder_path + '\\\\' + file)\n",
    "    "
   ]
  },
  {
   "cell_type": "code",
   "execution_count": 75,
   "metadata": {},
   "outputs": [],
   "source": [
    "#fixing the date format\n",
    "for year,df in raw_dataframes.items():\n",
    "    raw_dataframes[year].GAME_DATE = pd.to_datetime(raw_dataframes[year]['GAME_DATE'], dayfirst=False)"
   ]
  },
  {
   "cell_type": "code",
   "execution_count": 80,
   "metadata": {},
   "outputs": [],
   "source": [
    "#data should be sorted by the date, then by GameID, then by teamID and then by playerID\n",
    "#raw_dataframes['2004'].sort_values(['GAME_DATE','GAME_ID', 'TEAM_ID', 'PLAYER_ID']).head(50)\n",
    "#raw_dataframes['2004'].sort_values(['GAME_DATE','GAME_ID', 'TEAM_ID', 'PLAYER_ID']).tail(50)\n",
    "#looks good\n",
    "for year, df in raw_dataframes.items():\n",
    "   raw_dataframes[year].sort_values(['GAME_DATE', 'GAME_ID', 'TEAM_ID', 'PLAYER_ID'], inplace = True)\n"
   ]
  },
  {
   "cell_type": "code",
   "execution_count": 81,
   "metadata": {},
   "outputs": [],
   "source": [
    "#now that the data is sorted I can combine all the DFs into one\n",
    "complete_dataframe = pd.concat(list(raw_dataframes.values()), axis=0).reset_index(drop=True)\n"
   ]
  },
  {
   "cell_type": "code",
   "execution_count": 85,
   "metadata": {},
   "outputs": [],
   "source": [
    "#saving the data as a pickle\n",
    "file_name = 'full_data_pickle.pkl'\n",
    "complete_dataframe.to_pickle(folder_path + '\\\\' + file_name)"
   ]
  }
 ],
 "metadata": {
  "kernelspec": {
   "display_name": "pdata3121",
   "language": "python",
   "name": "python3"
  },
  "language_info": {
   "codemirror_mode": {
    "name": "ipython",
    "version": 3
   },
   "file_extension": ".py",
   "mimetype": "text/x-python",
   "name": "python",
   "nbconvert_exporter": "python",
   "pygments_lexer": "ipython3",
   "version": "3.12.1"
  }
 },
 "nbformat": 4,
 "nbformat_minor": 2
}
